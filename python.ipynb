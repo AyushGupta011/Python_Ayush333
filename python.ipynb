{
 "cells": [
  {
   "cell_type": "code",
   "execution_count": null,
   "id": "1c262980",
   "metadata": {},
   "outputs": [
    {
     "name": "stdout",
     "output_type": "stream",
     "text": [
      "<class 'list'>\n",
      "abc\n",
      "[8, 'bcd']\n",
      "['bcd']\n",
      "[123, 'john', 123, 'john']\n",
      "['abc', 8, 'bcd', 123, 'john']\n",
      "0\n",
      "1\n",
      "2\n",
      "3\n",
      "4\n"
     ]
    }
   ],
   "source": [
    "#list ke liye [] ye bracket use hoga \n",
    "# tuple ke liye () ye bracket \n",
    "# dic ke liye {}\n",
    "\n",
    "\n",
    "list=['abc',8,'bcd']\n",
    "tinylist=[123,'john']\n",
    "print(type(list))\n",
    "\n",
    "print(list[0])\n",
    "print(list[1:3])\n",
    "print(list[2:])\n",
    "print(tinylist*2)\n",
    "print(list+tinylist)\n",
    "\n",
    "\n",
    "#python range data type\n",
    "# range(start,stop,step)\n",
    "\n",
    "#start (to specify starting position)\n",
    "#stop (to specify ending position)\n",
    "#step (to specify increment) its optional default:1\n",
    "for i in range(5):\n",
    "    print(i)\n",
    "# dictionary are kind of hash table \n",
    "#can be any python type\n",
    "#usually number and strings \n",
    "\n",
    "    dict={}\n",
    "    dict['one']=\"this is one\"\n",
    "    dict[2]=\"this is two \"\n",
    "    \n",
    "\n",
    "\n",
    "\n",
    "\n",
    "\n"
   ]
  }
 ],
 "metadata": {
  "kernelspec": {
   "display_name": "Python 3",
   "language": "python",
   "name": "python3"
  },
  "language_info": {
   "codemirror_mode": {
    "name": "ipython",
    "version": 3
   },
   "file_extension": ".py",
   "mimetype": "text/x-python",
   "name": "python",
   "nbconvert_exporter": "python",
   "pygments_lexer": "ipython3",
   "version": "3.13.7"
  }
 },
 "nbformat": 4,
 "nbformat_minor": 5
}
